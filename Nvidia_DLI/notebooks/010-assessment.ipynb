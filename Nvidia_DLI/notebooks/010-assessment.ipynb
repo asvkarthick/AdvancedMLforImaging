{
 "cells": [
  {
   "cell_type": "code",
   "execution_count": 1,
   "id": "32f54396",
   "metadata": {},
   "outputs": [
    {
     "name": "stderr",
     "output_type": "stream",
     "text": [
      "2024-04-19 12:52:17.879401: I tensorflow/core/platform/cpu_feature_guard.cc:182] This TensorFlow binary is optimized to use available CPU instructions in performance-critical operations.\n",
      "To enable the following instructions: AVX2 FMA, in other operations, rebuild TensorFlow with the appropriate compiler flags.\n"
     ]
    }
   ],
   "source": [
    "from tensorflow import keras\n",
    "\n",
    "base_model = keras.applications.VGG16(\n",
    "    weights='imagenet',\n",
    "    input_shape=(224, 224, 3),\n",
    "    include_top=False)"
   ]
  },
  {
   "cell_type": "code",
   "execution_count": 2,
   "id": "67b7fd7f",
   "metadata": {},
   "outputs": [],
   "source": [
    "# Freeze base model\n",
    "base_model.trainable = False"
   ]
  },
  {
   "cell_type": "code",
   "execution_count": 5,
   "id": "ad298540",
   "metadata": {},
   "outputs": [],
   "source": [
    "# Create inputs with correct shape\n",
    "inputs = keras.Input(shape=(224, 224, 3))\n",
    "\n",
    "x = base_model(inputs, training=False)\n",
    "\n",
    "# Add pooling layer or flatten layer\n",
    "x = keras.layers.GlobalAveragePooling2D()(x)\n",
    "\n",
    "# Add final dense layer\n",
    "outputs = keras.layers.Dense(6, activation = 'softmax')(x)\n",
    "\n",
    "# Combine inputs and outputs to create model\n",
    "model = keras.Model(inputs, outputs)"
   ]
  },
  {
   "cell_type": "code",
   "execution_count": 6,
   "id": "4c63a96e",
   "metadata": {},
   "outputs": [
    {
     "name": "stdout",
     "output_type": "stream",
     "text": [
      "Model: \"model\"\n",
      "_________________________________________________________________\n",
      " Layer (type)                Output Shape              Param #   \n",
      "=================================================================\n",
      " input_3 (InputLayer)        [(None, 224, 224, 3)]     0         \n",
      "                                                                 \n",
      " vgg16 (Functional)          (None, 7, 7, 512)         14714688  \n",
      "                                                                 \n",
      " global_average_pooling2d_1   (None, 512)              0         \n",
      " (GlobalAveragePooling2D)                                        \n",
      "                                                                 \n",
      " dense_1 (Dense)             (None, 6)                 3078      \n",
      "                                                                 \n",
      "=================================================================\n",
      "Total params: 14,717,766\n",
      "Trainable params: 3,078\n",
      "Non-trainable params: 14,714,688\n",
      "_________________________________________________________________\n"
     ]
    }
   ],
   "source": [
    "model.summary()"
   ]
  },
  {
   "cell_type": "code",
   "execution_count": 7,
   "id": "96dc566f",
   "metadata": {},
   "outputs": [],
   "source": [
    "model.compile(loss = 'categorical_crossentropy' , metrics = ['accuracy'])"
   ]
  },
  {
   "cell_type": "code",
   "execution_count": 8,
   "id": "5dc5b5dc",
   "metadata": {},
   "outputs": [],
   "source": [
    "from tensorflow.keras.preprocessing.image import ImageDataGenerator\n",
    "\n",
    "datagen_train = ImageDataGenerator(\n",
    "    samplewise_center=True,  # set each sample mean to 0\n",
    "    rotation_range=10,  # randomly rotate images in the range (degrees, 0 to 180)\n",
    "    zoom_range=0.1,  # Randomly zoom image\n",
    "    width_shift_range=0.1,  # randomly shift images horizontally (fraction of total width)\n",
    "    height_shift_range=0.1,  # randomly shift images vertically (fraction of total height)\n",
    "    horizontal_flip=True,  # randomly flip images\n",
    "    vertical_flip=False,\n",
    ")\n",
    "datagen_valid = ImageDataGenerator(samplewise_center=True)"
   ]
  },
  {
   "cell_type": "code",
   "execution_count": 10,
   "id": "ff1ccd42",
   "metadata": {},
   "outputs": [
    {
     "name": "stdout",
     "output_type": "stream",
     "text": [
      "Found 1182 images belonging to 6 classes.\n",
      "Found 329 images belonging to 6 classes.\n"
     ]
    }
   ],
   "source": [
    "# load and iterate training dataset\n",
    "train_it = datagen_train.flow_from_directory(\n",
    "    \"data/fruits/train/\",\n",
    "    target_size=(224, 224),\n",
    "    color_mode=\"rgb\",\n",
    "    class_mode=\"categorical\",\n",
    ")\n",
    "# load and iterate validation dataset\n",
    "valid_it = datagen_valid.flow_from_directory(\n",
    "    \"data/fruits/valid/\",\n",
    "    target_size=(224, 224),\n",
    "    color_mode=\"rgb\",\n",
    "    class_mode=\"categorical\",\n",
    ")"
   ]
  },
  {
   "cell_type": "code",
   "execution_count": 11,
   "id": "ffeb69d4",
   "metadata": {},
   "outputs": [
    {
     "name": "stdout",
     "output_type": "stream",
     "text": [
      "Epoch 1/20\n"
     ]
    },
    {
     "name": "stderr",
     "output_type": "stream",
     "text": [
      "2024-04-19 13:10:01.047046: I tensorflow/core/common_runtime/executor.cc:1197] [/device:CPU:0] (DEBUG INFO) Executor start aborting (this does not indicate an error and you can ignore this message): INVALID_ARGUMENT: You must feed a value for placeholder tensor 'Placeholder/_0' with dtype int32\n",
      "\t [[{{node Placeholder/_0}}]]\n"
     ]
    },
    {
     "name": "stdout",
     "output_type": "stream",
     "text": [
      "37/36 [==============================] - ETA: 0s - loss: 2.6286 - accuracy: 0.4856"
     ]
    },
    {
     "name": "stderr",
     "output_type": "stream",
     "text": [
      "2024-04-19 13:11:27.851427: I tensorflow/core/common_runtime/executor.cc:1197] [/device:CPU:0] (DEBUG INFO) Executor start aborting (this does not indicate an error and you can ignore this message): INVALID_ARGUMENT: You must feed a value for placeholder tensor 'Placeholder/_0' with dtype int32\n",
      "\t [[{{node Placeholder/_0}}]]\n"
     ]
    },
    {
     "name": "stdout",
     "output_type": "stream",
     "text": [
      "36/36 [==============================] - 112s 3s/step - loss: 2.6286 - accuracy: 0.4856 - val_loss: 1.1570 - val_accuracy: 0.6809\n",
      "Epoch 2/20\n",
      "36/36 [==============================] - 136s 4s/step - loss: 0.8162 - accuracy: 0.7640 - val_loss: 0.5756 - val_accuracy: 0.8024\n",
      "Epoch 3/20\n",
      "36/36 [==============================] - 138s 4s/step - loss: 0.4260 - accuracy: 0.8579 - val_loss: 0.3205 - val_accuracy: 0.8997\n",
      "Epoch 4/20\n",
      "36/36 [==============================] - 144s 4s/step - loss: 0.2747 - accuracy: 0.9036 - val_loss: 0.2650 - val_accuracy: 0.9210\n",
      "Epoch 5/20\n",
      "36/36 [==============================] - 167s 5s/step - loss: 0.1851 - accuracy: 0.9391 - val_loss: 0.2358 - val_accuracy: 0.9362\n",
      "Epoch 6/20\n",
      "36/36 [==============================] - 183s 5s/step - loss: 0.1246 - accuracy: 0.9560 - val_loss: 0.2042 - val_accuracy: 0.9392\n",
      "Epoch 7/20\n",
      "36/36 [==============================] - 171s 5s/step - loss: 0.1195 - accuracy: 0.9577 - val_loss: 0.1582 - val_accuracy: 0.9605\n",
      "Epoch 8/20\n",
      "36/36 [==============================] - 159s 4s/step - loss: 0.0851 - accuracy: 0.9704 - val_loss: 0.1668 - val_accuracy: 0.9605\n",
      "Epoch 9/20\n",
      "36/36 [==============================] - 153s 4s/step - loss: 0.0682 - accuracy: 0.9746 - val_loss: 0.1661 - val_accuracy: 0.9696\n",
      "Epoch 10/20\n",
      "36/36 [==============================] - 184s 5s/step - loss: 0.0636 - accuracy: 0.9772 - val_loss: 0.1468 - val_accuracy: 0.9696\n",
      "Epoch 11/20\n",
      "36/36 [==============================] - 155s 4s/step - loss: 0.0444 - accuracy: 0.9822 - val_loss: 0.1466 - val_accuracy: 0.9696\n",
      "Epoch 12/20\n",
      "36/36 [==============================] - 147s 4s/step - loss: 0.0494 - accuracy: 0.9831 - val_loss: 0.1769 - val_accuracy: 0.9574\n",
      "Epoch 13/20\n",
      "36/36 [==============================] - 149s 4s/step - loss: 0.0398 - accuracy: 0.9873 - val_loss: 0.1301 - val_accuracy: 0.9666\n",
      "Epoch 14/20\n",
      "36/36 [==============================] - 148s 4s/step - loss: 0.0439 - accuracy: 0.9873 - val_loss: 0.1358 - val_accuracy: 0.9666\n",
      "Epoch 15/20\n",
      "36/36 [==============================] - 174s 5s/step - loss: 0.0317 - accuracy: 0.9907 - val_loss: 0.1349 - val_accuracy: 0.9726\n",
      "Epoch 16/20\n",
      "36/36 [==============================] - 205s 6s/step - loss: 0.0238 - accuracy: 0.9907 - val_loss: 0.1569 - val_accuracy: 0.9666\n",
      "Epoch 17/20\n",
      "36/36 [==============================] - 190s 5s/step - loss: 0.0269 - accuracy: 0.9924 - val_loss: 0.1467 - val_accuracy: 0.9696\n",
      "Epoch 18/20\n",
      "36/36 [==============================] - 191s 5s/step - loss: 0.0188 - accuracy: 0.9949 - val_loss: 0.1317 - val_accuracy: 0.9726\n",
      "Epoch 19/20\n",
      "36/36 [==============================] - 168s 5s/step - loss: 0.0211 - accuracy: 0.9958 - val_loss: 0.1438 - val_accuracy: 0.9757\n",
      "Epoch 20/20\n",
      "36/36 [==============================] - 149s 4s/step - loss: 0.0183 - accuracy: 0.9941 - val_loss: 0.1327 - val_accuracy: 0.9757\n"
     ]
    },
    {
     "data": {
      "text/plain": [
       "<keras.callbacks.History at 0x7fbaca5052a0>"
      ]
     },
     "execution_count": 11,
     "metadata": {},
     "output_type": "execute_result"
    }
   ],
   "source": [
    "model.fit(train_it,\n",
    "          validation_data=valid_it,\n",
    "          steps_per_epoch=train_it.samples/train_it.batch_size,\n",
    "          validation_steps=valid_it.samples/valid_it.batch_size,\n",
    "          epochs=20)"
   ]
  },
  {
   "cell_type": "code",
   "execution_count": null,
   "id": "d7577548",
   "metadata": {},
   "outputs": [],
   "source": [
    "# Do not run this if your accuracy is greater than 0.92\n",
    "# Unfreeze the base model\n",
    "base_model.trainable = FIXME\n",
    "\n",
    "# Compile the model with a low learning rate\n",
    "model.compile(optimizer=keras.optimizers.RMSprop(learning_rate = FIXME),\n",
    "              loss = FIXME , metrics = FIXME)\n",
    "\n",
    "model.fit(FIXME,\n",
    "          validation_data=FIXME,\n",
    "          steps_per_epoch=train_it.samples/train_it.batch_size,\n",
    "          validation_steps=valid_it.samples/valid_it.batch_size,\n",
    "          epochs=FIXME)"
   ]
  },
  {
   "cell_type": "code",
   "execution_count": null,
   "id": "3d3e29ed",
   "metadata": {},
   "outputs": [],
   "source": [
    "model.evaluate(valid_it, steps=valid_it.samples/valid_it.batch_size)"
   ]
  },
  {
   "cell_type": "code",
   "execution_count": null,
   "id": "ee772d07",
   "metadata": {},
   "outputs": [],
   "source": [
    "from run_assessment import run_assessment"
   ]
  },
  {
   "cell_type": "code",
   "execution_count": null,
   "id": "8f2967b0",
   "metadata": {},
   "outputs": [],
   "source": [
    "run_assessment(model, valid_it)"
   ]
  }
 ],
 "metadata": {
  "kernelspec": {
   "display_name": "Python 3 (ipykernel)",
   "language": "python",
   "name": "python3"
  },
  "language_info": {
   "codemirror_mode": {
    "name": "ipython",
    "version": 3
   },
   "file_extension": ".py",
   "mimetype": "text/x-python",
   "name": "python",
   "nbconvert_exporter": "python",
   "pygments_lexer": "ipython3",
   "version": "3.10.9"
  }
 },
 "nbformat": 4,
 "nbformat_minor": 5
}
